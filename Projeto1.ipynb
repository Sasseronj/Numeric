{
  "nbformat": 4,
  "nbformat_minor": 0,
  "metadata": {
    "colab": {
      "provenance": []
    },
    "kernelspec": {
      "name": "python3",
      "display_name": "Python 3"
    },
    "language_info": {
      "name": "python"
    }
  },
  "cells": [
    {
      "cell_type": "code",
      "source": [
        "import numpy as np\n",
        "import sympy as sp\n",
        "import math\n",
        "from time import time\n",
        "from scipy.linalg import cho_factor, cho_solve, lu\n",
        "from matplotlib import pyplot as plt, patches"
      ],
      "metadata": {
        "id": "lErfEAmyX4Kh"
      },
      "execution_count": null,
      "outputs": []
    },
    {
      "cell_type": "markdown",
      "source": [
        "# **Sistemas Lineares com Matrizes Simétricas**"
      ],
      "metadata": {
        "id": "GJOuzsbmSQnW"
      }
    },
    {
      "cell_type": "markdown",
      "source": [
        "**1)** Considere a matriz $A$ e o vetor $b$ dados abaixo:"
      ],
      "metadata": {
        "id": "6mMViQMZSd59"
      }
    },
    {
      "cell_type": "markdown",
      "source": [
        "![image.png](data:image/png;base64,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)"
      ],
      "metadata": {
        "id": "I8mvWo-bSjRG"
      }
    },
    {
      "cell_type": "markdown",
      "source": [
        "Seja n a dimensão do problema."
      ],
      "metadata": {
        "id": "a_zPPPeCSrC2"
      }
    },
    {
      "cell_type": "markdown",
      "source": [
        "**a)** Escreva um código que monte a matriz $A$ para $n = 1000$."
      ],
      "metadata": {
        "id": "j2uNasigSvz3"
      }
    },
    {
      "cell_type": "code",
      "execution_count": null,
      "metadata": {
        "colab": {
          "base_uri": "https://localhost:8080/"
        },
        "id": "L0kSk-E7SDjq",
        "outputId": "4f5398c0-029b-4124-f5e1-06200c8143a5"
      },
      "outputs": [
        {
          "output_type": "stream",
          "name": "stdout",
          "text": [
            "[[100.  -4.   1. ...   0.   0.   0.]\n",
            " [ -4. 100.  -4. ...   0.   0.   0.]\n",
            " [  1.  -4. 100. ...   0.   0.   0.]\n",
            " ...\n",
            " [  0.   0.   0. ... 100.  -4.   1.]\n",
            " [  0.   0.   0. ...  -4. 100.  -4.]\n",
            " [  0.   0.   0. ...   1.  -4. 100.]]\n"
          ]
        }
      ],
      "source": [
        "n = 1000  # Definição do tamanho da matriz\n",
        "\n",
        "A = np.zeros((n, n))  # Criação da matrix A(n x n)\n",
        "\n",
        "# Para a montagem da matriz, iremos percorrer apenas os índices diagonais \n",
        "for i in range(n):\n",
        "\n",
        "  # Insere 100, quando for da diagonal principal\n",
        "  A[i][i] = 100\n",
        "  \n",
        "  # Para cada inserção primeiro devemos checar se está coluna é pertencente aos\n",
        "  # limites da matrix. Por conta disso, checar se ela é maior ou igual a 0 ou \n",
        "  # menor que o seu limite n. Assim, conforme pedido no exercício para colunas \n",
        "  # i-2 e i+2 inserimos 1, já para colunas i-1 e i+1 inserimos -4.\n",
        "  if i + 1 < n:  \n",
        "    A[i][i+1] = -4\n",
        "  if i + 2 < n:  \n",
        "    A[i][i+2] = 1\n",
        "  if i - 1 >= 0: \n",
        "    A[i][i-1] = -4 \n",
        "  if i - 2 >= 0: \n",
        "    A[i][i-2] = 1 \n",
        "\n",
        "print(A)"
      ]
    },
    {
      "cell_type": "code",
      "source": [
        "# Cria a matriz b, conforme passado ono exercício\n",
        "b = np.ones((1000,1)) / math.pow(n, 4)\n",
        "\n",
        "print(b[:5])"
      ],
      "metadata": {
        "colab": {
          "base_uri": "https://localhost:8080/"
        },
        "id": "j0fIcPftsuQY",
        "outputId": "cd9ee66d-968f-4ad3-f3e9-8a606efd28d0"
      },
      "execution_count": null,
      "outputs": [
        {
          "output_type": "stream",
          "name": "stdout",
          "text": [
            "[[1.e-12]\n",
            " [1.e-12]\n",
            " [1.e-12]\n",
            " [1.e-12]\n",
            " [1.e-12]]\n"
          ]
        }
      ]
    },
    {
      "cell_type": "markdown",
      "source": [
        "**b)** Escreva um código que faça a decomposição de Cholesky de uma matriz simétrica definida positiva qualquer."
      ],
      "metadata": {
        "id": "bBg6xpi_S7qA"
      }
    },
    {
      "cell_type": "markdown",
      "source": [
        "<h2><b>Decomposição de Cholesky</b></h2>\n",
        " \n",
        "---\n",
        "\n",
        "A decomposição de Cholesky é uma técnica numérica utilizada para decompor uma matriz simétrica definida positiva em um produto matricial, onde a matriz resultante é triangular inferior. Essa decomposição é amplamente utilizada em várias áreas da matemática e da computação, incluindo otimização, resolução de sistemas lineares, estimação de parâmetros, entre outros. \n",
        "\n",
        "Além disso, esta decomposição é aplicada em matrizes simétricas positivas, ou seja, matrizes que possuem o determinante positivo. Sendo $A$ sua matrix original e $L$ uma matriz triangular inferior resultado.\n",
        "\n",
        "Para a formulação da matriz L, utilizamos as seguintes fórmulas para o Termo Geral:\n",
        "\n",
        "\n",
        "1.   Diagonal: \n",
        "$$h_{ii} = \\left( a_{ii} - \\sum_{k=1}^{i-1} h_{ik}^2 \\right) $$\n",
        "\n",
        "2.   Fora da diagonal:  \n",
        "$$h_{ij} = \\frac{a_{ij} - \\sum_{k=1}^{j-1}h_{ik}h_{jk}}{h_{jj}}$$\n",
        "\n",
        "\n",
        "\n",
        "\n"
      ],
      "metadata": {
        "id": "fCpCWRyP8_4l"
      }
    },
    {
      "cell_type": "code",
      "source": [
        "def cholesky(A):\n",
        "  n, _ = np.shape(A)  # Dimensões da matriz\n",
        "  L = np.zeros((n,n)) # Cria a matriz diagonal inferior\n",
        "\n",
        "  # Executa o algortimo de Decomposição de Cholesky, seguintos as fórmulas \n",
        "  # apresentadas acima.\n",
        "  for i in range(n):\n",
        "    for j in range(i+1):\n",
        "\n",
        "      # Executa o somatório para ambos os casos\n",
        "      tempSum = sum(L[i][k] * L[j][k] for k in np.arange(j))           \n",
        "            \n",
        "      if (i == j): # Elementos da diagonal\n",
        "          L[i][j] = math.sqrt(A[i][i] - tempSum)\n",
        "      else:        # Elementos fora da diagonal\n",
        "          L[i][j] = (1.0 / L[j][j] * (A[i][j] - tempSum))\n",
        "\n",
        "  return L\n",
        "\n",
        "inicio = time()\n",
        "Lcho = cholesky(A)\n",
        "fim = time()\n",
        "\n",
        "print(Lcho)"
      ],
      "metadata": {
        "id": "OI6R28a4i-pC",
        "colab": {
          "base_uri": "https://localhost:8080/"
        },
        "outputId": "d1558642-946e-4916-9b22-4a47dda56c4b"
      },
      "execution_count": null,
      "outputs": [
        {
          "output_type": "stream",
          "name": "stdout",
          "text": [
            "[[10.          0.          0.         ...  0.          0.\n",
            "   0.        ]\n",
            " [-0.4         9.9919968   0.         ...  0.          0.\n",
            "   0.        ]\n",
            " [ 0.1        -0.39631718  9.99164314 ...  0.          0.\n",
            "   0.        ]\n",
            " ...\n",
            " [ 0.          0.          0.         ...  9.99164043  0.\n",
            "   0.        ]\n",
            " [ 0.          0.          0.         ... -0.39636438  9.99164043\n",
            "   0.        ]\n",
            " [ 0.          0.          0.         ...  0.10008367 -0.39636438\n",
            "   9.99164043]]\n"
          ]
        }
      ]
    },
    {
      "cell_type": "code",
      "source": [
        "# Com o objetivo de comprovar os resultados obtidos, comparei eles com \n",
        "# os resultados de funções nativas do numpy.\n",
        "print(np.allclose(np.linalg.cholesky(A), Lcho))"
      ],
      "metadata": {
        "colab": {
          "base_uri": "https://localhost:8080/"
        },
        "id": "VdR1yKSgffuF",
        "outputId": "b995357c-ea28-4aa3-df70-dd54790d4482"
      },
      "execution_count": null,
      "outputs": [
        {
          "output_type": "stream",
          "name": "stdout",
          "text": [
            "True\n"
          ]
        }
      ]
    },
    {
      "cell_type": "markdown",
      "source": [
        "**c)** Usando as rotinas implementadas anteriormente, escreva um código para resolver um sistema **$Ax = b$**."
      ],
      "metadata": {
        "id": "se5-MHNzTG1j"
      }
    },
    {
      "cell_type": "markdown",
      "source": [
        "<h2><b>Resolução de Sistema Triangulares (Superior)</b></h2>\n",
        "\n",
        "---\n",
        "\n",
        "Um sistema de linear de ordem $n$ é triangular inferior, se tiver a forma:\n",
        "\n",
        "\\\\\n",
        "\n",
        "$$\\begin{bmatrix}a_{1,1}&u_{1,2}&a_{1,3}&\\ldots &a_{1,n}\\\\&a_{2,2}&u_{2,3}&\\ldots &a_{2,n}\\\\&&\\ddots &\\ddots &\\vdots \\\\&&&\\ddots &a_{n-1,n}\\\\&&&&a_{n,n}\\end{bmatrix} \\begin{bmatrix}\n",
        "x_1 \\\\ x_2 \\\\ x_3 \\\\ \\vdots \\\\ x_n \n",
        "\\end{bmatrix} = \\begin{bmatrix}\n",
        "b_1 \\\\ b_2 \\\\ b_3 \\\\ \\vdots \\\\ b_n \n",
        "\\end{bmatrix}$$\n",
        "\n",
        "\\\\\n",
        "\n",
        "com $a_{ii} \\neq 0$, para $i = 1, ..., n$.\n",
        "\n",
        "\\\\\n",
        "\n",
        "A solução pode ser obtida via substituição diretas, isto é:\n",
        "\n",
        "\\\\\n",
        "\n",
        "$$x_i = \\frac{b_i - \\sum_{j=1}^{i-1}a_{ij}x_j}{a_{nn}}, \\quad i=1,...,n$$"
      ],
      "metadata": {
        "id": "iZL5AZY6GaH_"
      }
    },
    {
      "cell_type": "code",
      "source": [
        "def triangularSUP(U, b):\n",
        "  n, _ = U.shape  # Dimensões da matriz\n",
        "  x = np.zeros(n) # Vetor de resultados\n",
        "\n",
        "  # Percorre a matriz de forma inversa.\n",
        "  for i in range(n - 1, -1, -1):\n",
        "    tempSoma = 0  # Variável que será utilizada par ao armazenamneto do somatório\n",
        "\n",
        "    for j in range(n - 1, i, -1):\n",
        "      tempSoma += x[j] * (U[i][j] + math.pow(10, -15))  # Aplicação do somatório acima\n",
        "\n",
        "    b[i] -= tempSoma  # Aplicação da subtração\n",
        "\n",
        "    x[i] = b[i] / (U[i][i] + math.pow(10, -15)) # Computação do resultado\n",
        "  \n",
        "  return x"
      ],
      "metadata": {
        "id": "fJbTJlnIGaTU"
      },
      "execution_count": null,
      "outputs": []
    },
    {
      "cell_type": "markdown",
      "source": [
        "<h2><b>Resolução de Sistema Triangulares (Inferior)</b></h2>\n",
        "\n",
        "---\n",
        "\n",
        "Um sistema de linear de ordem $n$ é triangular inferior, se tiver a forma:\n",
        "\n",
        "\\\\\n",
        "\n",
        "$$\\begin{bmatrix}\\ a_{1,1}&&&&\\\\\\ a _{2,1}&\\ a_{2,2}&&&\\\\\\ a_{3,1}&\\ a_{3,2}&\\ddots &&\\\\\\vdots &\\vdots &\\ddots &\\ddots &\\\\\\ a _{n,1}&\\ a_{n,2}&\\ldots &\\ a_{n,n-1}&\\ a_{n,n}\\end{bmatrix} \\begin{bmatrix}\n",
        "x_1 \\\\ x_2 \\\\ x_3 \\\\ \\vdots \\\\ x_n \n",
        "\\end{bmatrix} = \\begin{bmatrix}\n",
        "b_1 \\\\ b_2 \\\\ b_3 \\\\ \\vdots \\\\ b_n \n",
        "\\end{bmatrix}$$\n",
        "\n",
        "\\\\\n",
        "\n",
        "com $a_{ii} \\neq 0$, para $i = 1, ..., n$.\n",
        "\n",
        "\\\\\n",
        "\n",
        "A solução pode ser obtida via substituição diretas, isto é:\n",
        "\n",
        "\\\\\n",
        "\n",
        "$$x_i = \\frac{b_i - \\sum_{j=1}^{i-1}a_{ij}x_j}{a_{ii}}, \\quad i=1, ..., n$$"
      ],
      "metadata": {
        "id": "ic1ttQFMURJl"
      }
    },
    {
      "cell_type": "code",
      "source": [
        "def triangularINF(L, b):\n",
        "  n, _ = L.shape  # Dimensões da matriz\n",
        "  x = np.zeros(n) # Vetor de resultados \n",
        "\n",
        "  for i in range(n):\n",
        "    tempSoma = 0 # Variável que será utilizada par ao armazenamneto do somatório\n",
        "\n",
        "    for j in range(i):\n",
        "      tempSoma += x[j] * L[i][j] # Aplicação do somatório acima\n",
        "\n",
        "    b[i] -= tempSoma # Aplicação da subtração\n",
        "\n",
        "    x[i] = b[i] / L[i][i] # Computação do resultado\n",
        "  \n",
        "  return x"
      ],
      "metadata": {
        "id": "YVy80_uQXHBe"
      },
      "execution_count": null,
      "outputs": []
    },
    {
      "cell_type": "markdown",
      "source": [
        "<h2><b>Algoritmos de substituição</b></h2>\n",
        "\n",
        "---\n",
        "\n",
        "Tendo um sistema linear $Ax=b$, tal que $L$ e $U$ sejam suas matrizes triangulares inferior e superior, respectivamente, podemos encontar a solução do problema seguindo os seguintes passos:\n",
        "\n",
        "1. $Ly=b$ com substituição progressivas.\n",
        "2. $Ux=y$ com substituições regressivas.\n",
        "\n",
        "Com este conhecimento em mente, podemos resolver o problema proposto. Pois, a decomposição de Cholesky é uma maneira de fatorar uma matriz simétrica e positiva $A$ em um produto de duas matrizes, ou seja, $A = L L^t$. Assim utilizando os passos acimas, temos:\n",
        "\n",
        "1. $Ly=b$ com substituição progressivas.\n",
        "2. $L^tx=y$ com substituições regressivas.\n",
        "\n",
        "No código abaixo utilizaremos este método para a resolução."
      ],
      "metadata": {
        "id": "wMFTrmMOsJZi"
      }
    },
    {
      "cell_type": "code",
      "source": [
        "# Aplicando o método explicado acima, com as funções criadas nos passo anteriores.\n",
        "yCho = triangularINF(Lcho, b)\n",
        "xCho = triangularSUP(Lcho.T, yCho)\n",
        "\n",
        "print(xCho[:10])"
      ],
      "metadata": {
        "colab": {
          "base_uri": "https://localhost:8080/"
        },
        "id": "4SJMPfQprDKX",
        "outputId": "79acd730-5631-4f49-911a-52d4ca73051d"
      },
      "execution_count": null,
      "outputs": [
        {
          "output_type": "stream",
          "name": "stdout",
          "text": [
            "[1.03228419e-14 1.07323449e-14 1.06451885e-14 1.06376292e-14\n",
            " 1.06382023e-14 1.06383008e-14 1.06382989e-14 1.06382979e-14\n",
            " 1.06382979e-14 1.06382979e-14]\n"
          ]
        }
      ]
    },
    {
      "cell_type": "code",
      "source": [
        "# Com o objetivo de comprovar os resultados obtidos, comparei eles com \n",
        "# os resultados de funções nativas do scipy.\n",
        "print(np.allclose(cho_solve(cho_factor(A), b), xCho))"
      ],
      "metadata": {
        "colab": {
          "base_uri": "https://localhost:8080/"
        },
        "id": "HH5WBboff79O",
        "outputId": "d5968069-b518-496b-b586-9282aeccdc66"
      },
      "execution_count": null,
      "outputs": [
        {
          "output_type": "stream",
          "name": "stdout",
          "text": [
            "True\n"
          ]
        }
      ]
    },
    {
      "cell_type": "markdown",
      "source": [
        "**d)** Escreva um código implementando o método de Jacobi para resolver um sistema $Ax = b$. Utilize o erro\n",
        "absoluto como critério de parada."
      ],
      "metadata": {
        "id": "TSW_j8noTPKe"
      }
    },
    {
      "cell_type": "markdown",
      "source": [
        "<h2><b>Método de Gauss-Jacobi</b></h2>\n",
        "\n",
        "---\n",
        "\n",
        "O método de jacobi é um método iterativo de matrizes utilizado para resolução de sistemas lineares $Ax = b$ para uma matriz quadrada $A$ de tamanho $n \\times n$ conhecido.\n",
        "\n",
        "Para a aplicação do método, vamos obter $x^{(k+1)} = Cx^{(k)}+g$ a partir do sistema linear $Ax = b$. Seja $D$ uma matriz diagonal formada pela diagonal de $A$. Assim, \n",
        "\n",
        "\\\\\n",
        "\n",
        "$$Ax = b ⇔ \\left( A - D + D\\right)x = b ⇔ \\left(A - D\\right)x + Dx = b$$\n",
        "\n",
        "\\\\\n",
        "\n",
        "Desta forma, \n",
        "\n",
        "\\\\\n",
        "\n",
        "$$\\left(A-D\\right)x^{(k)} + Dx^{(k+1)} = b ⇔ Dx^{(k+1)} = \\left( D-A\\right)x^{(k)} + b$$\n",
        "\n",
        "\\\\\n",
        "\n",
        "Portanto,\n",
        "\n",
        "\\\\\n",
        "\n",
        "$$x=^{(k+1)} = \\underbrace{\\left( I - D^{-1} A\\right)}_{C}x^{(k)} + \\underbrace{D^{-1}b}_{g}$$\n",
        "\n",
        "\\\\\n",
        "\n",
        "Além disso, vale ressaltar que o Método Gauss-Jacobi converge para a solução de $Ax = b$, independentemente da escolha de $x^{(0)}$, se satisfaz um dos critérios.\n"
      ],
      "metadata": {
        "id": "c6TQFEkyJFiC"
      }
    },
    {
      "cell_type": "code",
      "source": [
        "#  Para a funnção de cáclculo por Gauss-Jacobi, foi usados erro de 10^(-20) e\n",
        "#  número máximo de interações como 10^4 como valores padrões.\n",
        "def jacobi(A, b, erro=math.pow(10, -20), maxInteracoes=math.pow(10, 4), chute=None):\n",
        "  n, _ = A.shape   # Dimensões da matriz\n",
        "\n",
        "  # Checa se o chute inicial foi dado, em caso negativo cria o chute inicial com 0s.\n",
        "  if chute is None:\n",
        "    chute = np.zeros(n)\n",
        "\n",
        "  D = np.diag(np.diag(A)) # Diagonalização da matriz A e criação da D\n",
        "  C = np.eye(n) - np.dot(np.linalg.inv(D), A) # Criação da matriz C, coforme a fórmula acima\n",
        "  g = np.dot(np.linalg.inv(D), b) # Criação da matriz g, conforme a fórmula acima\n",
        " \n",
        "  interacao = 0 # Variável para armazenar oo número de alterações feitas\n",
        "  while np.linalg.norm(b - np.dot(A, chute)) > erro and interacao < maxInteracoes:\n",
        "    chute = np.dot(C, chute) + g  # Cálculo do chute\n",
        "    interacao += 1\n",
        "\n",
        "  # Se o número de interações excedeu o máximo, retorna erro\n",
        "  if interacao > maxInteracoes:\n",
        "    raise Exception('Número máximo de interações excedido!')\n",
        "\n",
        "  return chute, interacao\n",
        "\n",
        "erro = np.linalg.norm(np.dot(A, xCho) - b) # Erro = ||A*x_cho - b|| \n",
        "\n",
        "xJacobi, interacoes = jacobi(A, b, erro=erro)\n",
        "\n",
        "print(xJacobi)"
      ],
      "metadata": {
        "id": "Gj6aPDFlTVmL",
        "colab": {
          "base_uri": "https://localhost:8080/"
        },
        "outputId": "4d6c3fcb-1cd1-4af0-cb62-ed78acae23cb"
      },
      "execution_count": null,
      "outputs": [
        {
          "output_type": "stream",
          "name": "stdout",
          "text": [
            "[[1.03128750e-14 1.03128750e-14 1.03128750e-14 ... 1.03128750e-14\n",
            "  1.03128750e-14 1.03128750e-14]\n",
            " [1.11094507e-14 1.11094507e-14 1.11094507e-14 ... 1.11094507e-14\n",
            "  1.11094507e-14 1.11094507e-14]\n",
            " [1.09376421e-14 1.09376421e-14 1.09376421e-14 ... 1.09376421e-14\n",
            "  1.09376421e-14 1.09376421e-14]\n",
            " ...\n",
            " [1.09239256e-14 1.09239256e-14 1.09239256e-14 ... 1.09239256e-14\n",
            "  1.09239256e-14 1.09239256e-14]\n",
            " [1.10269815e-14 1.10269815e-14 1.10269815e-14 ... 1.10269815e-14\n",
            "  1.10269815e-14 1.10269815e-14]\n",
            " [1.06147579e-14 1.06147579e-14 1.06147579e-14 ... 1.06147579e-14\n",
            "  1.06147579e-14 1.06147579e-14]]\n"
          ]
        }
      ]
    },
    {
      "cell_type": "code",
      "source": [
        "# Com o objetivo de comprovar os resultados obtidos, comparei eles com \n",
        "# os resultados de funções nativas do numpy.\n",
        "np.allclose(np.linalg.solve(A, b), xJacobi)"
      ],
      "metadata": {
        "colab": {
          "base_uri": "https://localhost:8080/"
        },
        "id": "a5RhpfYNg9m2",
        "outputId": "b3ead0f9-7981-4988-c678-14eaf6f11303"
      },
      "execution_count": null,
      "outputs": [
        {
          "output_type": "execute_result",
          "data": {
            "text/plain": [
              "True"
            ]
          },
          "metadata": {},
          "execution_count": 11
        }
      ]
    },
    {
      "cell_type": "markdown",
      "source": [
        "**e)** Vamos comparar o método direto de Cholesky com o iterativo de Jacobi neste exemplo. Observe quanto\n",
        "tempo leva para resolver o sistema usando Cholesky. Quantas iterações foram necessárias no método de\n",
        "Jacobi para obtermos a mesma precisão da solução dada pelo método de Cholesky ?"
      ],
      "metadata": {
        "id": "_2J_ZgmJTV7S"
      }
    },
    {
      "cell_type": "markdown",
      "source": [
        "<h2><b>Análise de Complexidade</b></h2>\n",
        "\n",
        "---\n",
        "\n",
        "Com a iniciativa de avaliar e comparar o desempenho dos métodos utilizados nos tópicos anteriores é importante ter o conhecimento da complexidade de cada um deles, sendo:\n",
        "\n",
        "1. Complexidade do Método de Cholesky: \n",
        "\n",
        "$$O\\left(\\frac{n^3}{3}\\right)$$\n",
        "\n",
        "2. Complexidade do Método de Gauss-Jacobi:\n",
        "\n",
        "$$O\\left(n^2\\right)$$\n",
        "\n",
        "\\\\\n",
        "\n",
        "Assim, esperamos que o Método de Gauss-Jacobi forneça desempenhos mais satisfatórios em relação ao Método de Cholesky."
      ],
      "metadata": {
        "id": "0jJLP8c83VSw"
      }
    },
    {
      "cell_type": "code",
      "source": [
        "print('O tempo de execução do Método de Cholesky para solução de um sistema linear foi de %s segundos' % (fim - inicio))\n",
        "print('Foi necessário %s interações para o Método Gauss-Jacobi' % interacoes)"
      ],
      "metadata": {
        "id": "uX8RbixvTgsF",
        "colab": {
          "base_uri": "https://localhost:8080/"
        },
        "outputId": "310c01ba-ffd3-4136-dc1d-8c1431c5e77b"
      },
      "execution_count": null,
      "outputs": [
        {
          "output_type": "stream",
          "name": "stdout",
          "text": [
            "O tempo de execução do Método de Cholesky para solução de um sistema linear foi de 114.79077243804932 segundos\n",
            "Foi necessário 2 interações para o Método Gauss-Jacobi\n"
          ]
        }
      ]
    },
    {
      "cell_type": "markdown",
      "source": [
        "Como podemos perceber pelo resultados oferecidos no exercício podemos provar que o Método de Gauss-Jacobi possui vantagens de desempenho em comparação ao Método de Cholesky, pois obteve o mesmo resultado em um tempo consideravelmente menor."
      ],
      "metadata": {
        "id": "51Z3qHXa5C05"
      }
    },
    {
      "cell_type": "markdown",
      "source": [
        "**f)** É possível melhorar a implementação da decomposição de Cholesky para o exemplo em questão?"
      ],
      "metadata": {
        "id": "5_3nDvUqThf6"
      }
    },
    {
      "cell_type": "markdown",
      "source": [
        "Sim, é possível melhorar a decomposição de Cholesky para o exemplo. Para isso ser possível podemos implementar as seguintes alterações:\n",
        "\n",
        "1. **Verificar a simetria da matriz de entrada**: a matriz de entrada para o Método de Cholesky necessita ser simetrica, para isso poderiamos fazer uma funcionalidade para realizar esta checagem e em caso de falha retornar erro.\n",
        "\n",
        "2. **Aproveitar a simetria da matriz**: como a matriz de Cholesky exige simetria, podemos utilizar esta caracterísca para para calcular apenas os valores relativos a uma parte da matriz triangular. Deste modo, economizariamos espaço e tempo de execução.\n",
        "\n",
        "3. **Lidar com casos especiais**: existem certos casos em que a decomposição de Cholesky não é possível ou é instável, então para este cenários poderia utilizar outros métodos mais eficientes.\n",
        "\n"
      ],
      "metadata": {
        "id": "3Ehr7cWw6uy2"
      }
    },
    {
      "cell_type": "markdown",
      "source": [
        "# **Método de Newton Para Sistemas Não-Lineares**"
      ],
      "metadata": {
        "id": "udOEK4uKTqQ6"
      }
    },
    {
      "cell_type": "markdown",
      "source": [
        "Em muitas aplicações, lidamos com sistemas não-lineares do tipo"
      ],
      "metadata": {
        "id": "J_rulu1BTw70"
      }
    },
    {
      "cell_type": "markdown",
      "source": [
        "![image.png](data:image/png;base64,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)"
      ],
      "metadata": {
        "id": "LR9ixagSUGRu"
      }
    },
    {
      "cell_type": "markdown",
      "source": [
        "Escrevendo esse sistema na forma vetorial, temos"
      ],
      "metadata": {
        "id": "erfkAXvtULBp"
      }
    },
    {
      "cell_type": "markdown",
      "source": [
        "![image.png](data:image/png;base64,iVBORw0KGgoAAAANSUhEUgAAAocAAABHCAIAAAD6AXooAAAACXBIWXMAAA7EAAAOxAGVKw4bAAAceElEQVR4nO3dd0AT5/sA8OcuAYLIlA0KyKgbFBcogoqzCGKlDhRrrX5ptVVr7c9aR6u2jtq6RVGpxVHciIiAKIigoghSlSUgywCydxJyd78/GCKGsKIGeD7/5e7N+z55L7nn3nsvdwTDMIAQQgghKUB+7AAQQgghVAezMkIIISQtMCsjhBBC0gKzMkIIISQtMCsjhBBC0oL9sQNAqHMQPvXY7J0mAAAAdo2x/Ub3ib0+ckhdlRDi/bediCwlAQAYUsvyu9Xz9FgfO6pWYkDw5PRPZ+PqBjwcdedVa617SXT406n7B7UIx8oItQqdcNzHj6etp6enp6err6HUigNaGvKeBfreflIqci0Dgpf+By7H0RIOVNrR+fcO/RNcLuZjEyCvoqNX29Mq3FMB53OFHy68jhMkXfrrQX5t/Ho62j3Zkt7LdvL+QS3AsTJCrURq93JcvmoSp3WlGaiO2eJ2rO+Miln/N6HqyLsFqp/sPJW06GeH7nZkTPaynmP4629nTHYs7Cu6BAuM7JZ8bwcAQOd4HAgN+oDRSQQBgyasXOVGvKfqO33/ILG62x4BoQ+kBgK9N2uNdLT/xm/du2uF8OzvXdS4b/t0wxOPJKhbL1ePXndT9DkEhLo3zMoIvRdEekQSWFj37DfG3vDdtczzozGEo5XsBw9LOrDUXS0pr/O5HzsOhKQPnsFGSOLo3PteZ076p/WbErTnunDFp4PlmhSgMgIeyI79q2ExU/3kpn9GRVF0sur4gVU5r5JiZVx2LxnWipagJCHoZjI/93ls79GWJXnchITypdvWmEj4A7VCWaJ/cDK/MCpNZZJZdV5W+m3FWYcXDWnmVAAJGiMtX+y/LoQl3XcX1O6Njro2HCsjJHGklpXbBM2UoY6bvltTl5Lp0tdF9dfkMCBIimdUB8vUvqShOOLUM01HpxkuspFzfMrmjOxRkFvNq11Jlb4urmm+papwn9hesxwdp6uGup4vdrHqkfW6QlDbRElmUlpO9Ye5lowSBF67ZeLg6Oygd3j/Bo6DDVGSWc0X9w62vgErN5r7QaKTRh3Z6Khrw6yMkOQxUPxfrI6ujToJQEFK+Nkjaya57I9vWFtTVsyWq/9jFQGEmcMsCzmAuMdl/adMlzd1O3Z6hTXQr0K8T30zz+R4UrOplaZNnZ2GsyiIS7wzY9QMhb4LznpuHkBBesgxr5svcuO8XRcuu1sg6u1CSPCYRDiuTqlpy5LmkHxze7d+csCPj0s3nT1OXXf53hvuI8TOmXNUVIUlxS1V3GV1YKOjLg6zMkKSR0Hs0+ARJtYAACwwsZm/0Na4puGSXAJYHA4lrGp4qaKl24MBwbPbNzQ+HatcX4zUs5+70Kq3jJh2SCUdLUUAeH4zgbCdUP9Omgo8v7XKbLztp/+3UO3YwSuiBq1sMHX89fIP3xjJtGVJcwhFHS1FoOBxRMiEAU7yb1bweXwagOFXlDcNguHzCNlWXs/eBXVgo6MuDrMyQu9B8aOUGvPhys2tltE3Yspf1j1EVVgddenArWRICLpmbDxdC6Dkrtf5RFFDJRrSIs/cflGf4BgojvPxDEoVpvmdIlys9QmovHP8XDzIsNyPZX5vTgKR8fCVqvVIOQAAATfk8vUM3pvK2HrWzuNMG49nW7Oktl1B5l2f24kN/5KlS596/+3LFWb43kuztuoDlDDw3LF0PnX7tPf2ryevOOgd+jB49YpVCY3G3HRhbpmqqb6YLuzaWr/RUXfTfS+1QOg9evywdJj74GZO4RIgO2isdnEQl5qtxwIg0n28PBWcOIqU3bCqhHvhJYllA+fZiDpgpl+d+22Vp2l16r6vSAAQQoL/AZ+iLxkN8gsjmbjIu8lZOVZOtnWFhRU3D2yRdYteaU4CAJXlv2rz/2z5vEPzml561mYUpARsnfc3oRwWNE0eAIB+eXXn2QKh4IXy4Ln58Q/Cip4LzOYayhYJLKYpBm7Umeo21SDa51h2RUPSYaD6SXQv4+8UOhpKp9X6jY66G8zKCEmcMPlBqtFCWzE5R2aam9bBwGxmiQEBrP57/B7kFlJamkp0ZU6+QMNatZnfJVvvJ7/Xg0Iv0rVnuWTAen2Eb34uS11HganMKeBp2tnUHQhQ5eHnj5RP3PvrJ7Ehd/XsbeRYxsueRetfCZHEx2PDgGXBpca+jxsWWGz4zze3kNbU7EmUvc5h1MYoywAAmBn73yZcPA0JQczFZNVlvTLjqk3N5QFACBH38mfMGyKJaDqn1m901N3gsRlCEsOAIOa3PhNXBoc9GTNlUc/ahRRkP/I9FZqe/5/vv7ef1p3EZZOzljlGnQ2lal+yFLQ1lQgAloKOdsPemS6IuHo6Mpl+7H8yLKG6rrK8q4VCuzf7b4JQ0tRRIAFYCjpavepTMh26fdLMDWe2fTHOws7tEYtdG0ZaCFdppIQmLOm8wCJqWKNRN0tBW1ORBIJQ0tKtTcnAgOC/8Jo+s/RJKEp/ra+WHRIvUzvlTBf7XCW//Kp/9979tHqjo+6FYBjmY8eAUCcgOD9i/N7fb90Tf8dNOv+u5/lUlprO7DlTVMUnHQqS/X+9qbJ8ua16a2OgIP1pBGfwWO123BGM5kbF1IwabtD2d4oK5NWjGHrYiN4txUHzeBSHIwMADJ/Pl5PjAAAIuWf3nzFevHaUassN0TkeJguDLlz3tezwefcPhIGKc7MU78ykPd7bHTcb6Xz9g1qEJ00QkiBSw8Z9uU2rirLAzHFDj1dcuvWnrFhgaDG2vZHpjhrezreKCERvxIhWNcrh1H02oi4lA9AVNWMWrzFoRUpGqDvCrIzQR0Ow9PV7f+wgPjRSxUAyA3aEuqTuPbGDEEIISRPMygghhJC0wKyMEEIISQvMygghhJC0wKyMEEIISQvMylKEpvi8qndU8nj8N7fHpSDpxh7f54Jm68i/d+if4PJuej9dWiiqB6t41YJu2iEIoQ9IkH3h+KkUkc8wpUpvnjzwoLAVeyL8Z5T0oLhBGzdduHvL+0EBPXT84qGaUFNZFP8gJEbdxC/iiYM8AAMVsX8e5077Y5psc5WQvaznGP762xmTHQv7tj8UBipTfI+FCAxVK5KL5OcumdenU9yjQFhwcef6q7eCfSKyVAdNd7bUooXVr1/cu8nNnL+Nd3Jhp/gMCKHOiWLCPXfy7PeZyAHQkBNzKSixBooTYnLUvvxhpYWa8kQni58PeBhuWK4tfjSMY2XpwdKfvuuIx2cDadCFqWuPnvDy8j7nG/08/EuVuPQcBgCAytpzJn6O6wBxtZCgbr1cPXrdzdIOhCKI++GnvSZzPp/5+ZduGgFuOyI6UNcHxNacu+H4X279QRZ07Vcd9/L62/vf6xFpN1z7ZmS96nj1NHTOETcDgqzIi6FJwpaLSqNO2O00tPWOiR3YRp2wf7omKn3/kfwZrv1IAIDqgOWb9vcY+fkX7r+Oeb1+6oYzNACpZLNE797Oq2UtVIRZWXoJq6JCb+fLDvt22rSMVCEwIHjqGSk/37LFZ9Ky1F0tKa/zue1sl4Hqux5HZMbaqQGQoGk9+mXo7/fbWddHxUBRXOD9HJbdF0s5xfEdvbMszY0RROV3xufeUpB6fYvLHs906mNH0g687AxBXGtO+0kLBoR5eVDexs5u9zbqdP3TVQnh/tmrxhPH16VUdh8bc3N5FgADcrIy1VQ1AAAL+jpPiQ/wbGHEhFlZelVG7Dx0JIOBwV8dXm7JAgqSQm9r9x9NAEAN3PVYOs2mn6G5xsoLOVBwY+6ovsOnOa07kwAAQILGSMsXsdfbOTaigZsYD3K9arM/qaqmUnIjoYW3MAm+v2/af/b8yW0/7Lj0ugZSA/+c76i9xvPBlXOXL/z9y+pdoSkPr/hcvHJ44+LtwfkiamB4sf9u+vE3z5OnPC7dfXTg2Dma4vr98T+bCVMu5gOdFfrbsqkWX+8uot9pS8z+iBbcPP7ttRc1LFP3wyusOnpTYlJ3uKyVRjtuQP3RsaG/exDj96dJZwyeo28kO7RXm/ZTvMyzu34+dPriie2rdwRkNFtM+GTX0lmj+hsZ2zsFZEPutRV9+ptPdVt6MbljKY4AtpYOKBm2rbPbvY3a0T/ovci6Hs8fObT+sF1u0Ort+2cYk1Ser2eKwvalbrWbiFS0GVLue69SbE04ryyNsgn/rQsf5wXfVLP9GYBUMTQEAAE8S001tOYAAMiAjfsxX7sTVlO+Cgu7n2XwomTw4rMHN5rVD6PZ+gas3AguLOnTqFYqO+S3fQHFwncGjWyhwfgfV02vv/UjA2Vl5UDUf73YLDYF4g7uGKiM+snCuyrlwvreNHB+NNxwZZKn85rFtw5+/SR1w0FXVUrvitXo3YaZR1x6C3rflzt4+NvJm3s2roGCZO/P7IPHxZ9ZpkXDg31jlyTOX75U13HVVz5+9iVCIPXHr10WvGFnLsVA5cO327o4yfNzpaYhCYAb8Mec+O+vpaasmgVAqBgZvNVc+s3de4NfEe/0BMFRmb58k73+B3isAHo/hHBri52nwvWwBf2hWmuOi1vgmDtTlUWVZFv8eOTylBPTLXb53YriKqdm2Sz38l5h+VZaFOZf2bsz/JWIASzbYMyP383WwHSI6jx/KjBa0PhEJi1MCPv3oq+v5pg9DoMargQy6CMbGZ9JTxPzwDTMytJIn3HYeOr3YRFzvvJonDiKK/MUVeoTBgFynywJ9k7Sm7HQInXytbNXzBp/ITgqqsKSYoDGWZmlb7/pD/vWtC8nJwtM/UibpikCxF0oJYS7F7w51Fcx13wf06wyGf3kpBcAlixWWe8+1qokgFChpyL0s9ADAkj5njKVxeU09Gz8nWSyT/wTYL/gnBYJQID5wP6libUr2LINxUhSTFtNQ5IF3elrz+2ccGWtefS7AbPAcOoPe6e2pidQZ8NEnbj2Us0lwc83iaYodfLJszRq6tBmRqAsMF98yT9llMPXevfm+4fstWxajq3h/MNu5/ceNOr8hCWFoKjUeLdGsvtPWLhx3MLgdX2HuxcknPymFwAwpKqCTFKB2Pk0zMrSq+eon1bJ6jeayJSX4ZRUN9qcJKj1m+g85GxAku/p0Gzrz/TfrGL4PEK2yQQ0XZwYFPq8kn7nC8Gi1UwnTRhU/xAfEjS1NCG6lA/ABqDLyktkjbXExMkAn1+i94md48wJBADMmuEGADUABCUnUx8CQcrJNQxAqaYR0KVlfFDsWf9RWaKOImufOMqA4N22mkOyxi89ZPDuw+RpKEy8FZpQ/O4lOQS7x0Dbqf1aeARjZ8OAIDvSL0V95vhPuv7vnRBUy8Kg8TMcbWQAYOZnn7VQnpQ3HzfW9N9XsdF7w19Nn6b39mkSqjwuLPhF8bv7UIJU6zvZbmhPSX1TutU26pJY8j0YHo8GYAEwIHjhu8Oft3jl3N4ssBoxNH/75iD4Zj4AAPBrauR6iK2qa+1+uhaih4XVGPWGLUSAkY5ZbuOTaaVx69f9Ne1Q4qV5Fh6/GO95+Gaygi7MLVM11X+rOiBleiiriqKiptSj0a6ABNVx08xKX6TVADAgTEsuMVk4DgAE3JDL1zN478TJBhsH14SMsILa+Tjew6vBWQAAIASmYR9XP1fHgIizw+TAmWN1op48YACAgbK83Lp8SXAU5AQMwwADlZkvgQJgw1jRbYlCguoAW0sdEQ3K9FAU2ROqKio92F3uN9Gpr/Zqs9HzRso/fswFAGCg/JHfrezmxyU0lMRsX+pndCM64At+uOv/fnjWZMKPZCsoqon+qij2FHn02E4S30ad/ML7TsjQmJ2bU7v5GMiPOL756tVUHgANBQWFID9At7YUUZJTZWpoIP7yAQZJC2Hm1VULF1r35bCV5YY7uC1avvUxr9Fqiin1WzBlWxLDMEwNdeMP1ykjtLUdf0oSMPzobbLKbAXT0Qu2nCpgGIZmKm4stt8S24FQhOF/fu5+MCLjxcPtyx0OPuIxDCNMOTpwEHxzlieifE3F7b1ffrnxaEDw9ZNHT0TlMmkhx76w7WE6e/Wl+2khR1dbGvVw+vnE4/h7h1bbcwZYbTgVWtKkhpK4Xe6fb/on9E7AuYPfWqkuOUQxDFPDhP0+ZdHuW48ib/h4LNX5xHyt953yJm3lU43CyDu1cdHntn0JDkvL4tNFS108wgXt74Qm+OeGW1sFS6w61CoU97DRRKdoUV+6Zt9SGL31a9dfjvuFXDt90CeklGqmXEXkRteZQ4xhyu5HjIAJ32oBCmBi77jlUlaHIqaZ8n+dwf0fukO1tFaz/VPDxHtMhhnfvxB+kDiQgDn1jfne5LpvG1V8b8/WPy5HJKbFXnGd0nfNhdS6YrxgpwVfp4rfKJiVO5PyINcVm143t5dpIGACNzrsi2+xnFg0U5z+6GZYVHZ5o3p41y/7N7+D5JdkZbxuy/6zaYv84lfZBTWV1xZCbVZmGIZmKvLTMgtrGH5xVnZOKa8+mA621Q5VW2EYnJBclketQSWvBGvwq2zj22iGX5ydXtDWt0kCxRT+bg6fr6n5MK21r3+QxFFM8Q13173pb5YIq1If3bp+K+JlUX0SppmqyB/m7njeQlU4h9GZcCavG3LxxD3eurHi/rNMF/tcJb/cLeYav9YgQMVguP3bly6nhXCVRjb/j11ZZf0+za5sTYuyKrp6DFRSFNBCunZ6hQAFdSMFAAAVfT3JtdUOLLPhHKveFEBn/Mty59XzEyN5J922/l+IAFkVPYOWy70HBMga9YXMIR/ob2jt6x8kcSSoTFw/JHx3TPW+YfIAAMCS7zt8wlt3WBSWng4qc18l9jZQgPPKnQsbBi3+Rf/hngcFzZcRcn1OZy1a6Sz+eoL2ILj5WpMmvuf/gghTgg/G6n+nkXfgWsx7bQghhCRJpvf3y8ZfOxlcLnItBcmB+6iJO2xVRa5uBMfKnQxbd8G3izLyhc1tOrqiZsziNQYtbvh2IHVHDX8P1b6NbTr5/36Z/N6b6Vbw+l7ph9uoS2AbzFw3M724BhTfPaNGlsiar3Dv04pdM46VOx8ZXQPdZn+5pIqBQRf7Yw/qoO51DXbnhNuoayBATsdQW+QkF6Fi2EetVZXgcRlCXVzt3RzdP3YYSAzcRqgBjqoQQgghaYFZGSGEEJIWmJURQgghaYFZGSGEEJIWmJURQgghaYFZGaH3hCp47u8fmFhAN18Ckm7s8X0u+IBBSQEaciI9Ttwp/NhxICSVMCsj9F7w/1v77V/F2cccN3uLTssMVMT+eZw7ZeZAWZHruywSdEZ+oR21+cJLsU+ZRah7wqyMkOQxUH338CHOyBkTvj2x2kX0r4zK2nMmfo5rSzfF7ZJk5KfON7/gcfbd54Ii1N1hVkZI8ihIjI4cbmSjYmZnY6IgogADgqeekfLzLcU9Z6QrY2kuGFN6wDf3Y8eBkLTBe3shJGF04a3TZ7yuPmMNCThyjb90xlART/ShICn0tnb/dUTDkrJE/+BkfmFUmsoks+q8rPTbirMOL2rNk4eY6ic3/TMqiqKTVccPrMp5lRQr47J7yTAJfqBWoaEkIehmMj/3eWzv0ZYledyEhPKl29aYNFeelLcxJg6FVs+dJ/8hw5QWbe0u1H3gWBkhCSN7TZw/UUlB3nXDGneRKRkAaHiWmmpoWj9SpgSB126ZODg6O+gd3r+B42BDlGRW8wEAgIHigoJm745MQ3HEqWeajk4zXGQj5/iUzRnZoyC3uvbEsLAoKzEtr+IDTd5WhfvE9prl6DhdNdT1fLGLVY+s1xXiLmMjwVBXPf7Fyw8TndRpa3eh7gOzMkKSVxXzgBlvrkmIKVJcmaeoUl+A5Jvbu/WTA358XLrp7HHqusv33nAfwaLSI/458f34/63PbC4tE0CYOcyykAOIe1zWf8p0eVO3Y6dXWAP1+trfR8ISCmO8ljptulou8nozYc7vnxLjt8eIWUKlHR0wnNgb1/IzE2ja1NlpOIuCuMQ7M0bNUOi74KznZnFz5gTIK6lWVuW1WHOX1ObuQt0HZmWEJIwB/rPHT/SsBsvVvubz+DQAw68o5zcqJS/D4VfXj2MJRR0tRaDgcUTIhAFODad0WYZjF7nZqZPN/0wJUNHS7cGA4NntGxqfjlWuX14Vuu9GsvnEMbPXupNhPwZXi3ovqeO68cKWOYPELGH1mXn4l+DZ/Vo+kU4q6WgpAsDzmwmE7QTlNytqPz0tKKtoGgRdw2OxRE26dwPt6C7UXWBWRkjCaOD+F9tPz04BACjq9mnv7V9PXnHQO/Rh8OoVqxJqAACAACMds9xXdWNQuvSp99++XGGG7700a6s+QAkDzx0T/VA/ATfk8vWMhmuXhdVRlw7cSoaEoGvGxtO1AEruep1PpEFxTsj5/cYsEKY+eqH+qQUHgIa0yDO3XzQ6MCDBYPRsm76y4pawtewcJunLifiMb9XGQHGcj2dQqjDN7xThYq1PQOWd4+fioeq+l9e+RS5uHmeDY66vX7DjQeMa8l/nG+h0y4nUdnQX6j4wKyMkYRREPw8fNcgSAIAs0reYpih4Nmiq21SbPlWF2RW1J5NZMGzEkOS49Np30C+v7jwbFvjPeeXBc0vjH4T5ewnM5hiKGqBSWf6rNjvsulKfDol0Hy/P0DvHAim7YVUJ98KvXC4eOKNf3c+aLojaejRj95+7jVkA9Ktzv61acvBU8/c0aYsmtQkhwf+AT3DYCV/yCyOZuMi7Fy7nWE0bQFdqjJmolsXWdZrnYNWbeFlU+maSm4aHCcVjbVUkEk4n047uQt0HXoONkISRKfdyhjhMlgcAIDTMjP1vEy6ehoQg5mKy6rJemXHVpubyJCiNX6gefCaf/lWDBLbFhv98cwtpTc2eRNnrHEZtjLLIB6cDsIyXPYvWvxLS8Lr/Hr8HuYWUlqYSXZmTL9CwVq37TdMF0ScuJM3dfED/ecgjHfsRHL2f/F4PCr1IS+RYnP12bTJgvT7CNz+Xpa6jwFTmFPA07WxYAECb6Nz/RWHwBl0aQm+EW9l/kxRf3m+AIgAAE3WLmbh+QLccF7Sju1D30S1/Ewi9HzXPvp+ituXGzUydldM1AACAAcF/4TV9ZumTUJT+Wl8tOyRepm7amDN53ZCcE/fqTkazFLQ1FUkgCCUt3YaUTOc8Pnc6NC/9xSWfgNTaeUYK0kK4SiMbJW2WgramEgHAUtDRrk/JUBm7xvmzHUf3zLcdOvKP83IsAAAq72qh0E5SB+JNayMIJU0dBRKApaCj1atunE9B9KOM0bamwFSnFOoqc6+nkAq1y7OunNWcvsGgFf/86pra1F2oWyEYBk+SINQywXlLozV9HBy0SQA23+zTXaunqjctQ5UEnTrNpTmfTF9irV1/fTXN41EcjgwAMHw+X06u0X1DhNzT+/8xcftp9Ds1NYvmRsXUjBpu0Ob4KUh/GsEZPFZbIomw1bVR/GpGTp4NAAyfJ5DjyAEACNP9fg+WX7NskuicI4Snl34+GFZEAgAv6XK6ckDgFct357alEwMV55wVt/HcbQwBAOQ15q7/xVa9tcMfkd3VVKfuH9QizMoItQqVGeAdzK29AotF6Q6bN91cSQLV1nAz8jUNdLvTVBINhdw0Gd2+Ss2lKhqyonwCn1cQAAAMqWrm5Gzbq/Oc1hOmhXndTqmLV0Z5jLNLf0l8U97o5P2DWoBZGSGEEJIWeICFEEIISQvMygghhJC0wKyMEEIISQvMygghhJC0wKyMEEIISQvMygghhJC0wKyMEEIISQvMygghhJC0+H8H294th8kP2gAAAABJRU5ErkJggg==)"
      ],
      "metadata": {
        "id": "8vkJQcKhUOQo"
      }
    },
    {
      "cell_type": "markdown",
      "source": [
        "Podemos generalizar o método de Newton para uma função vetorial $F(x)$, em que cada iteração é da forma"
      ],
      "metadata": {
        "id": "dgKTetcoUS5W"
      }
    },
    {
      "cell_type": "markdown",
      "source": [
        "![image.png](data:image/png;base64,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)"
      ],
      "metadata": {
        "id": "2HtXckQCUydF"
      }
    },
    {
      "cell_type": "markdown",
      "source": [
        "$J_F(x^k)$ designa a matriz Jacobiana de $F$ avaliada no ponto $x^k$. Lembramos que a matriz Jacobiana de uma\n",
        "função $F$ é dada por"
      ],
      "metadata": {
        "id": "WH4R4-05Uy98"
      }
    },
    {
      "cell_type": "markdown",
      "source": [
        "![image.png](data:image/png;base64,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)"
      ],
      "metadata": {
        "id": "8j5NW917VIrK"
      }
    },
    {
      "cell_type": "markdown",
      "source": [
        "**1)** Observando a equação (4), vê-se a necessidade de calcular a matriz inversa da Jacobiana.\n",
        "E possível calcular matrizes inversas usando a decomposição LU, sendo assim, implemente um \n",
        "código que:"
      ],
      "metadata": {
        "id": "SpXvbtS9VJHu"
      }
    },
    {
      "cell_type": "markdown",
      "source": [
        "**a)** Calcule a fatoração LU de uma matriz qualquer;"
      ],
      "metadata": {
        "id": "38E9FYAZVc-G"
      }
    },
    {
      "cell_type": "markdown",
      "source": [
        "<h2><b>Decomposição LU</b></h2>\n",
        "\n",
        "---\n",
        "\n",
        "A decomposição $LU$ é uma técnica de fatoração de matrizes muito utilizada em álgebra linear, ela consiste em fatorar uma matriz original $A$ em outras duas matrizes $L$ e $U$, sendo elas, respectivamente, a matriz triangular inferior e e a matriz triangular superior.\n",
        "\n",
        "Assim, para encontrar estas matrizes utilizamos as seguintes fórmulas de Termo Geral:\n",
        "\n",
        "\n",
        "1. Cálculo de $u_{ij}$ com $j \\geq i$:\n",
        "\n",
        "$$u_{ij} = a_{ij} - \\sum_{k=1}^{i-1}l_{ik}l_{ik}u_{kj}$$\n",
        "\n",
        "2. Cálculo de $l_{ij}$ com $i > j$:\n",
        "\n",
        "$$l_{ij} = \\frac{a_{ij} - \\sum_{k=1}^{j-1}l_{ik}u_{kj}}{u_{jj}}$$"
      ],
      "metadata": {
        "id": "7grdDw5f266j"
      }
    },
    {
      "cell_type": "code",
      "source": [
        "def decomposicaoLU(A):\n",
        "  n, _ = np.shape(A)  # Dimensão da matriz\n",
        "  L = np.eye(n)       # Inicia a matriz lower como identidade\n",
        "  U = np.zeros((n,n)) # Inicia a matriz upper como zeros\n",
        "\n",
        "  # Percorre as lindas da matriz para a execução das formulas acima\n",
        "  for i in range(n):\n",
        "    # Percorre os devidos campos realizando o somatória e a multiplicação\n",
        "    for j in range(i, n):\n",
        "      U[i][j] = A[i][j]  # Atribui o valor original da matriz A para a posição correta em U.\n",
        "\n",
        "      # Realiza a subtração necessária para calcular o valor de U[i][j]. \n",
        "      # Ele itera sobre as colunas anteriores à coluna atual j e subtrai o produto de \n",
        "      #L[i][x] e U[x][j] de U[i][j].\n",
        "      for x in range(i):\n",
        "        U[i][j] -= L[i][x] * U[x][j] # Fórmula do somatório acima\n",
        "    \n",
        "    # Mesma ideia do código acima\n",
        "    for k in range(i+1, n):\n",
        "      L[k][i] = A[k][i]\n",
        "      for x in range(i):\n",
        "        L[k][i] -= L[k][x] * U[x][i]\n",
        "      L[k][i] /= U[i][i]\n",
        "\n",
        "  return L, U \n",
        "\n",
        "A = np.array([[2, 1, 2], [4, 3, 3], [6, 5, -1]])\n",
        "\n",
        "L, U = decomposicaoLU(A)\n",
        "\n",
        "print(L)\n",
        "print(U)"
      ],
      "metadata": {
        "colab": {
          "base_uri": "https://localhost:8080/"
        },
        "id": "6j5uJ7TA--uq",
        "outputId": "1a8a9d22-16fb-4980-958d-14b6a005d005"
      },
      "execution_count": null,
      "outputs": [
        {
          "output_type": "stream",
          "name": "stdout",
          "text": [
            "[[1. 0. 0.]\n",
            " [2. 1. 0.]\n",
            " [3. 2. 1.]]\n",
            "[[ 2.  1.  2.]\n",
            " [ 0.  1. -1.]\n",
            " [ 0.  0. -5.]]\n"
          ]
        }
      ]
    },
    {
      "cell_type": "code",
      "source": [
        "# Com o checar se o resultado está correto, multiplique as dus matrizes para\n",
        "# verificar se elas batem com a matriz original.\n",
        "print(np.allclose(np.dot(L, U), A))"
      ],
      "metadata": {
        "colab": {
          "base_uri": "https://localhost:8080/"
        },
        "id": "kKO9jmAV6EoJ",
        "outputId": "090110a0-1ced-4b3e-e3e7-da9b7d8f1d1f"
      },
      "execution_count": null,
      "outputs": [
        {
          "output_type": "stream",
          "name": "stdout",
          "text": [
            "True\n"
          ]
        }
      ]
    },
    {
      "cell_type": "markdown",
      "source": [
        "**b)** Resolva um sistema linear cujo lado direito é uma matriz;"
      ],
      "metadata": {
        "id": "dSMgAKWEVgN2"
      }
    },
    {
      "cell_type": "markdown",
      "source": [
        "<h2><b>Eliminação de Gauss</b></h2>\n",
        "\n",
        "---\n",
        "\n",
        "Dado um sistema linear $Ax=b$ de ordem $n$, onde $A$ possui todos os menores principais não-singlares, ou seja, $det(A_k) \\neq 0, k = 1, ...n$.\n",
        "\n",
        "Para realização do Método Direto Eliminação de Gauss temos um objetivo que se consiste em obter um sistema linear triangular superior equivalente a $Ax=b$ usando operações elementares que presenvam o determinate da matriz, ou seja, operações de escalonamento.\n",
        "\n",
        "A elaboração seguirá a seguinte fórmula do Termo Geral, para $k = 1, ..., n-1$:\n",
        "\n",
        "$$ U_{i}^{(k+1)} ← U_{i}^{(k)} + m_{ik} U_{k}^{(k)}, \\quad i = k+1, ..., n \n",
        "\\quad\\quad\\quad\\quad \\text{com} \\quad m_{ik} = \\frac{-a_{ik}^{(k)}}{a_{kk}^{(k)}}$$"
      ],
      "metadata": {
        "id": "c2F8Bma99DQl"
      }
    },
    {
      "cell_type": "code",
      "source": [
        "def solucaoGauss(A, b):\n",
        "  n, _ = A.shape  # Dimensão da matriz \n",
        "  U = A.copy().astype('float64')  # Copia da matriz e matriz de resultado\n",
        "  aux = b.copy().astype('float64')  # Auxiliar para não modificar a forma de b\n",
        "  \n",
        "  m = np.eye(n) # Matriz m, que será utilizada para armazenas os multiplicadores\n",
        "                # utilizados durante o processo de eliminação.\n",
        "  \n",
        "  # Interaçõ sobre as linhas da matriz.\n",
        "  for i in range(n - 1):\n",
        "    # Interação sobre as linhas abaixo da linha atual i.\n",
        "    for j in range(i + 1, n):\n",
        "      # Calcula o multiplicador a ser aplicado na linha j para eliminar o elemento \n",
        "      # U[j][i] usando o elemento U[i][i] como pivô. A adição de math.pow(10, -15)\n",
        "      # é um ajuste para evitar divisão por zero.\n",
        "      m[j][i] = -(U[j][i] / (U[i][i] + math.pow(10, -15)))\n",
        "\n",
        "      # Atualiza o termo independente na linha j ao multiplicar o multiplicador \n",
        "      # m[j][i] pelo termo independente aux[i] da linha i e somá-lo a aux[j].\n",
        "      aux[j] += aux[i] * m[j][i]\n",
        "\n",
        "      # Atualiza a matriz U multiplicando-a pela matriz de multiplicadores m. \n",
        "      # Isso realiza a eliminação dos elementos abaixo do pivô U[i][i] na coluna i.\n",
        "      U = np.dot(m, U)\n",
        "\n",
        "      # Redefine o multiplicador m[j][i] como zero para evitar erros de arredondamento.\n",
        "      m[j][i] = 0\n",
        "  \n",
        "  return triangularSUP(U, aux)\n",
        "\n",
        "A = np.array([[2, 1, 2], [4, 3, 3], [6, 5, -1]])\n",
        "b = np.array([-1, 0, 6])\n",
        "\n",
        "res = solucaoGauss(A, b)\n",
        "\n",
        "print(res)"
      ],
      "metadata": {
        "id": "eiF-nOdoVmdd",
        "colab": {
          "base_uri": "https://localhost:8080/"
        },
        "outputId": "7b30796e-9040-4dde-dc02-56deae9c98ac"
      },
      "execution_count": null,
      "outputs": [
        {
          "output_type": "stream",
          "name": "stdout",
          "text": [
            "[ 6.66133815e-16  1.00000000e+00 -1.00000000e+00]\n"
          ]
        }
      ]
    },
    {
      "cell_type": "code",
      "source": [
        "# Verifica se o resultado é correto.\n",
        "print(np.allclose(np.dot(A, res), b))"
      ],
      "metadata": {
        "colab": {
          "base_uri": "https://localhost:8080/"
        },
        "id": "WguvkT5u6Qbs",
        "outputId": "a72b1c7f-f258-42af-b624-17ec4dd3ace6"
      },
      "execution_count": null,
      "outputs": [
        {
          "output_type": "stream",
          "name": "stdout",
          "text": [
            "True\n"
          ]
        }
      ]
    },
    {
      "cell_type": "markdown",
      "source": [
        "**c)** Finalmente, calcule a inversa de uma matriz qualquer resolvendo vários sistemas lineares."
      ],
      "metadata": {
        "id": "bCkxE70MVm1g"
      }
    },
    {
      "cell_type": "markdown",
      "source": [
        "<h2><b>Cálculo da Matriz Inversa</b></h2>\n",
        "\n",
        "---\n",
        "\n",
        "Para o cálculo da matriz inversa de $A$, ou seja, $A^{-1} = [v_1 | v_2 | ... | v_n]$, em que $v_i$ é a $i$-ésima coluna de $A^{-1}. Logo,\n",
        "\n",
        "\\\\\n",
        "\n",
        "$$ A \\cdot [v_1 | v_2 | ... | v_n] = [e_1 | e_2 | ... | e_n]$$\n",
        "\n",
        "\\\\\n",
        "\n",
        "onde $e_i$ é $i$-ésima coluna da matriz identidade $I$.\n",
        "\n",
        "Portanto, para obtermos a inversa temos que resolver os $n$ sistemas lineares:\n",
        "\n",
        "\\\\\n",
        "\n",
        "$$Av_i = e_i, \\quad i=1, ..., n$$\n"
      ],
      "metadata": {
        "id": "0Lv5UDriIXLk"
      }
    },
    {
      "cell_type": "code",
      "source": [
        "def matrizInversa(A):\n",
        "  n, _ = A.shape # Dimensão da matriz\n",
        "\n",
        "  I = np.eye(n)\n",
        "  inversa = np.zeros((n, n)) # Matriz resultado da operação\n",
        "\n",
        "  # Itera sobre as colunas da matriz identidade I (ou seja, as colunas \n",
        "  # correspondentes  da matriz inversa) e chama a função de Gauss para \n",
        "  # calcular a coluna correspondente da matriz inversa.\n",
        "  for i in range(n):\n",
        "    # Atribui a coluna calculada pela função solucaoGauss à coluna i da matriz inversa\n",
        "    inversa[:][i] = solucaoGauss(A, I[:][i])\n",
        "  \n",
        "  return inversa.T\n",
        "\n",
        "A = np.array([[2, 1], [5, 3]])\n",
        "\n",
        "print(A)\n",
        "print(matrizInversa(A))"
      ],
      "metadata": {
        "id": "EaycWyxdVsEk",
        "colab": {
          "base_uri": "https://localhost:8080/"
        },
        "outputId": "2626b276-c6b1-4d82-c5cb-266dca9eac84"
      },
      "execution_count": null,
      "outputs": [
        {
          "output_type": "stream",
          "name": "stdout",
          "text": [
            "[[2 1]\n",
            " [5 3]]\n",
            "[[ 3. -1.]\n",
            " [-5.  2.]]\n"
          ]
        }
      ]
    },
    {
      "cell_type": "code",
      "source": [
        "# Verifica se o resultado é correto.\n",
        "print(np.allclose(matrizInversa(A), np.linalg.inv(A)))"
      ],
      "metadata": {
        "colab": {
          "base_uri": "https://localhost:8080/"
        },
        "id": "5qLA0aNlNRID",
        "outputId": "0f80ee70-a370-4684-f2f8-9edd8250844c"
      },
      "execution_count": null,
      "outputs": [
        {
          "output_type": "stream",
          "name": "stdout",
          "text": [
            "True\n"
          ]
        }
      ]
    },
    {
      "cell_type": "markdown",
      "source": [
        "**2)** Implemente o método de Newton para sistemas usando a rotina implementada no item anterior.\n",
        "Lembre-se de especificar o critério de parada utilizado."
      ],
      "metadata": {
        "id": "Z484ZPm4VsQ1"
      }
    },
    {
      "cell_type": "markdown",
      "source": [
        "<h2><b>Método de Newton (Algoritmo)</b></h2>\n",
        "\n",
        "---\n",
        "\n",
        "Para $k = 0, 1, ...$ até convergir faremos:\n",
        "\n",
        "1. Resolver $J(x_k) v_k = f(x_k)$ para $v_k$;\n",
        "2. Depois $x_{k+1} = x_k - v_k$.\n",
        "\n",
        "Para cada iteração precisamos resolver o sistema linear."
      ],
      "metadata": {
        "id": "1fDcJTcvw8nt"
      }
    },
    {
      "cell_type": "code",
      "source": [
        "def sistemasNewton2(F, J, x, erro=math.pow(10, -5), interacoes=math.pow(10, 4)):\n",
        "  # Norma é utilizada como critério de parada para verificar a convergência do método\n",
        "  norm = np.linalg.norm(F(x)) \n",
        "  \n",
        "  interacao = 0   # Armazena o número de interações\n",
        "\n",
        "  # Equando as interações forem menores que o limete e a normalização maior que o erro.\n",
        "  while interacao < interacoes and erro < abs(norm):\n",
        "    # Calcula o incremento delta necessário para atualizar o vetor de \n",
        "    # entrada x no método de Newton pelo método da matriz inversa.\n",
        "    delta = np.dot(matrizInversa(J(x)), F(x))\n",
        "\n",
        "    x = x - delta # Atualiza o resultado \n",
        "\n",
        "    norm = np.linalg.norm(F(x)) # Atualiza a normalização \n",
        "    interacao += 1\n",
        "  \n",
        "  return x"
      ],
      "metadata": {
        "id": "mnXgkC3BI8SJ"
      },
      "execution_count": null,
      "outputs": []
    },
    {
      "cell_type": "markdown",
      "source": [
        "**3)** Implemente novamente o método de Newton para sistemas usando o algoritmo abaixo. Utilize\n",
        "as rotinas já implementadas neste trabalho para resolução do sistema linear, indicando sempre\n",
        "qual está usando."
      ],
      "metadata": {
        "id": "Je7NcaLlWebl"
      }
    },
    {
      "cell_type": "markdown",
      "source": [
        "Calcular inversas de matrizes é um processo que demanda muito custo computacional (como pode ser\n",
        "observado nos itens anteriores, precisa-se de uma fatoração LU e da resolução de vários sistemas lineares). Por\n",
        "isso, ao usar o método de Newton para sistemas, faz-se algumas manipulações na equação (4) evitando o cálculo\n",
        "da inversa da matriz Jacobiana. Define-se um vetor $z = x^k+1−x^k$\n",
        "e resolve-se o sistema linear $J_F(x^k\n",
        ")z = F(x^k)$.\n",
        "Deste modo, o algoritmo para resolver um sistema de equações não-lineares usando o método de Newton é:"
      ],
      "metadata": {
        "id": "nAtSbO-BVykY"
      }
    },
    {
      "cell_type": "markdown",
      "source": [
        "1. Numa dada iteração k, resolve-se o sistema $J_F(x^k)z = F(x^k)$,\n",
        "2. Atualiza-se $x^{k+1} = x^k − z$."
      ],
      "metadata": {
        "id": "IQtIvYdlWOL_"
      }
    },
    {
      "cell_type": "code",
      "source": [
        "def sistemasNewton3(F, J, x, erro=math.pow(10, -5), interacoes=math.pow(10, 4)):\n",
        "  # Norma é utilizada como critério de parada para verificar a convergência do método\n",
        "  norm = np.linalg.norm(F(x))\n",
        "\n",
        "  interacao = 0 # Armazena o número de interações\n",
        "\n",
        "  # Equando as interações forem menores que o limete e a normalização maior que o erro.\n",
        "  while interacao < interacoes and erro < abs(norm):\n",
        "    # Calcula o incremento delta necessário para atualizar o vetor de \n",
        "    # entrada x no método de Newton pelo método de Gauss.\n",
        "    delta = solucaoGauss(J(x), F(x))\n",
        "\n",
        "    x = x - delta # Atualiza o resultado\n",
        "\n",
        "    norm = np.linalg.norm(F(x)) # Atualiza a normalização\n",
        "    interacao += 1\n",
        "  \n",
        "  return x"
      ],
      "metadata": {
        "id": "mQk5t9-nWrPI"
      },
      "execution_count": null,
      "outputs": []
    },
    {
      "cell_type": "markdown",
      "source": [
        "**OBS**: Depois do desenvolvimento dos códigos sobre os itens 2 e 3, iremos checar os resultados"
      ],
      "metadata": {
        "id": "4FdrfLw9W_me"
      }
    },
    {
      "cell_type": "code",
      "source": [
        "# Com o objetico de lidar com os sismtemas que serão utilizados nas questões 2, 3 e 4\n",
        "# foi criado uma classe para a manipulação destes sistemas, nelas podemos passar as \n",
        "# equações que irão compor o nosso sistema. Assim, a partir delas criar sua matriz\n",
        "# jacobiana, do mesmo modo que realizar as substituições necessárias.\n",
        "class Sistema:\n",
        "  # Inicia a classe com as incofinitas que seram utilizadas em nosso sistema.\n",
        "  def __init__(self, incognitas):\n",
        "    self.incognitas = incognitas\n",
        "    self.J = []\n",
        "    self.F = []\n",
        "  \n",
        "  # Adiciona uma nova equação ao sistema. A equação é fornecida no formato de string\n",
        "  # e avalida pela função eval, que a tranforma numa equação. Assim,\n",
        "  # é chamado o método criaJ para a atualização da jacobiana.\n",
        "  def addEquacao(self, eq):\n",
        "    self.F.append(eval(eq))\n",
        "    self.criaJ()\n",
        "  \n",
        "  # Cria a matriz Jacobiana J do sistema. Ele itera sobre as variáveis incógnitas e \n",
        "  # calcula as derivadas parciais de cada equação em relação a essas variáveis. \n",
        "  # Os valores calculados são armazenados na matriz J.\n",
        "  def criaJ(self):\n",
        "    self.J = np.array([[sp.diff(f, var) for f in self.F] for var in self.incognitas]).T\n",
        "\n",
        "  # Retorna o vetor de equações.\n",
        "  def getF(self):\n",
        "    return self.F\n",
        "  \n",
        "  # Retorna o vetor resultante da substituição das variáveis incógnitas x nas equações do sistema. \n",
        "  # Ele itera sobre as equações em F e substitui as variáveis pelos valores correspondentes em x.\n",
        "  # Devido a problemas encontrado o foi necessário a mudança para float.\n",
        "  def getFx(self, x):\n",
        "    return np.array([f.subs({self.incognitas[tam]:x[tam] for tam in range(len(self.incognitas))}) for f in self.F], dtype=float)\n",
        "  \n",
        "  # Retorna a matriz jacobiana.\n",
        "  def getJ(self):\n",
        "    return self.J\n",
        "\n",
        "  # Retorna a matriz Jacobiana J com as variáveis incógnitas substituídas pelos valores em x. \n",
        "  # Ele itera sobre as entradas da matriz J e substitui as variáveis pelos valores correspondentes em x.\n",
        "  # Devido a problemas encontrado o foi necessário a mudança para float.\n",
        "  def getJx(self, x):\n",
        "    return np.array([[k.subs({self.incognitas[tam]:x[tam] for tam in range(len(self.incognitas))}) for k in i] for i in self.J], dtype=float)"
      ],
      "metadata": {
        "id": "42qanEuwRBGq"
      },
      "execution_count": null,
      "outputs": []
    },
    {
      "cell_type": "code",
      "source": [
        "# Como é utilizada a classe:\n",
        "\n",
        "# 1 - Cria as incoginas necessárias\n",
        "x, y = sp.symbols('x y')\n",
        "\n",
        "# 2 - Cria o sistema\n",
        "sistemaNewton = Sistema([x, y])\n",
        "\n",
        "# 3 - Adiciona as equações desejadads no formato de string.\n",
        "sistemaNewton.addEquacao('x**2 - 2*x - y + 1')\n",
        "sistemaNewton.addEquacao('x**2 - y**2 - 1')\n",
        "\n",
        "chute = np.array([1, -1]) # Chute para o método de Newton\n",
        "\n",
        "# Resoluções para o sistema encontrado.\n",
        "res2 = sistemasNewton2(sistemaNewton.getFx, sistemaNewton.getJx, chute)\n",
        "print('Resposta 2', np.around(res2, 5))\n",
        "\n",
        "res3 = sistemasNewton3(sistemaNewton.getFx, sistemaNewton.getJx, chute)\n",
        "print('Resposta 3', np.around(res3, 5))"
      ],
      "metadata": {
        "colab": {
          "base_uri": "https://localhost:8080/"
        },
        "id": "lFMU-EmuSrnK",
        "outputId": "1ec4fc67-bfd7-46e2-e230-ec8785879424"
      },
      "execution_count": null,
      "outputs": [
        {
          "output_type": "stream",
          "name": "stdout",
          "text": [
            "Resposta 2 [ 1. -0.]\n",
            "Resposta 3 [ 1. -0.]\n"
          ]
        }
      ]
    },
    {
      "cell_type": "markdown",
      "source": [
        "**RESPOSTA**: As resposta se encaixam no espera, pois o sistema utilizado foi introduzido em aula e sua resposta esperada era $[0, 1]$."
      ],
      "metadata": {
        "id": "ASYX-psQt4gJ"
      }
    },
    {
      "cell_type": "markdown",
      "source": [
        "**4)** Dada a equação de um círculo $(x − a)^2 + (y − b)^2 = R^2$ e três pontos que passam por esse cérculo"
      ],
      "metadata": {
        "id": "JlYdSLojWsdb"
      }
    },
    {
      "cell_type": "markdown",
      "source": [
        "![image.png](data:image/png;base64,iVBORw0KGgoAAAANSUhEUgAAAnwAAAA0CAIAAACfG3IpAAAACXBIWXMAAA7EAAAOxAGVKw4bAAAOpUlEQVR4nO3daVgUV9YA4FO90DSEXRYxgAwuaNyQTcR1gkpcUIKCqIARcTJ+wZiIJjETfIjLEEFAcPtcI4hCEgNqUIyOsuiAgqKAICA7AwKNbN1Ab1XzgyiLSOhubBz6vP/01q174PHxVN176x6CoihACCGE0NtHG+oAEEIIIUWBSRchhBCSE0y6CCGEkJxg0kUIIYTkBJMuQgghJCeYdBFCCCE5waSLEEIIyQkmXYQQQkhOGEMdAEKDLCcnJyMjY6ijQJKxsbGZNGnSUEeB0FtH4IlUaJhZsmTJiBEj6HS61HcgSTItLc3e3n4QoxqI8vJygiCMjY3lPO6dO3fs7e0JgpDzuK+IxWIOh5OQkDBUASAkN5h00XCjoqLC4XBUVFSkvkNHR4empmZHR8cgRjUQ/v7+DAbD399fzuPS6XSBQCDLY4qMeDyenp4ej8cbqgAQkhtc00UIIYTkBNd0EZIMKX6SdOFhDR06OI3qtptW2Sj3aIWajMizSfXAKyklLLZt2zhOHYACQXPlvy+HnaxeEPW1ozSzuBTwnsWfuCkYrcUtfMFe7e1uzOoZVN3DnxLzSbI590nu+JW7vWx1utr4ZXs+/84+LGq+MkhJCPF7FsS+sJ08kt3CKTVbddDHTrXHBW1l0YfPNGgZdTRwZqzbPmcUHQCAX/XTiRie1iiSx53k7G2ri0/4COGbLkISoUDwKOwix9FjrbvHel/HxtCA64Lu7WRt7NHM8du/2vb1rrBF9d/P/uJUKwDZkBHz8/2GwruJFQ1Sjit47PdN2Bg31xWuGzx1r3oG3unRKiIvBKy5DpZrvDZ/M799/daP/9X+skkMTy5/uyvrmVCWZSQKGnlt/OdPcsobxi7339Ar4wpbz/raxWv4bNm4cdtKZV/fHSViAFF58AanQovPPnFb1HR9U+CFZhmGR2gYwaSLkAQoaHiUeqPgmQAACDAwVG+pF3Zv5Wcm7D7tcakRgMb8yHFu3ZNT6QC0EdaeG1ymj1TmSjtoe+rRY8xZ87QBaKA3c0bp7X1pPa6gmVl+aKRKBwAlFgvEHa8eBERlcWlKs2bLvFrLmDA/PDbuwv+HeM817nUzkhsfdP+5zUxDAKAbz55cE3I+EzjxX2+nuW+1Vwa6tndI7sFPtGSNAKHhAaeXkaJozo48cubyvXwjlwOhy7n/2BzwTHvSur8FLv1AkidPGujNXfZilp1lgX+E76yUh+af7ej22kcA22FPqnbLdC0AMXCeV4P6GCPZIyeh+mkesJw7p4dpWtqaTdfyAexeXcCAGRsOzwAAISc6OtXR/bQjGwAAxFUX02CFs+bRH2SOQUBmX//lHq+Nr2HjusC8x/8b/PZWChh//JWSihAepfJv58VM03G7Ex3VBG00U2dXE5kDQGh4wDddpCg0pnj6/dNrbF1OBVcIhNqkFYE/7Jcs4wIAAN3UO/ncNn7yIYeVi8uNZpv2WihlG8+yn6QCAKKCkNhbPt57zWWPnIKWllYgmH/8kUFniKH3dC0FvKLkEyHfJzAWbF06jQAAMRQmXtGat2KE7F8CEaCvQte0+tjFeZ1Bsqf7ieLujTSdReveh6oyMQCQrfnZ9cDllpdWQG1plqGTx2rXlcXh43fflfdOcITeUZh0kQJhKi/bfd72jo/LvvQlvptGsyW/AwXcR0cDMuemFRUlbnO9GmDtdaqkj8vIjpvB21vcs466DcKLLgCwWEpAiV7enBQTwOp1BQGqY+f67AiPXE9z9LD/tRLI6ispsHjh+4Px8S0TFnrtnqlLAxrNbtbUX2L+kd29lWGy80Ak7/o/4xKuRMU8NzGA99Q1mAzQGDtnshoA6MyfMNL/9FnhG+6NkGLBpIsUC3Oc86qZpY+iC+qk2lkk5p89eWGOzzIdZW2HLdG55764nRzd1vsaeByzK21i6CnvaYLK0lrZY6aBnr4e8Jv5AABAtrQ2KZnpd79AWBodsutaEQkEqFrOtKp+cC6Gl/Hb7yV5PwcHBweHJNRW1ccfCbkp3egUCDL2z173zRMhAACNzQJuSU33CwhQ/cDjWMh3DjPt3X0shBRY2+sbGQGbpUYAAAEsJgtaK3v/lhBSTJh0kQIh4T+ph7LHBN3ebrvTb2eBVFOeNDGf37lPiQY6FvaLR5oqUSCovPvL7QIRAIihLCksVef/di4zEbXxb9+4WNc1uLQbiGmgNeejcc1FJUIACkQlhU1jPOYAgKDm1qXEig4gm5P3//h9Sn4HAJANdTVKMHI8w/bvEfu2+/n5+X3haSMcpbti85cOUg4PQAjNJiw0ogNQ0FhRASaLp/f4kQXxAX/dGdegpqnNT7+YZhrgMR3mLFiVx3ksAgAKauoqJo9ZqCH16AgNJ5h0kYIga9ND/RZbfxWuNEpNx9zBNDfQxdMvMqVKsrvQWR6fet3et++3+wVFj64fO5Tt4rOGIYbihO9XhR4vE4EoJ/AD5y99HU0YTCZTTdntFt8MAHj5sUfCDyWU0R7EBR0+klJCSho8fdTfTjoIjxy/W1GcEXLu6V6/r3UBxFVXPt/zUdxTkqbpdmDLt4aCB0XP8qP2njdxOvvdUhYAAAXc3MtBEYkdVdWxhw6lSjpqJwKULHycdTNv3Hmam3pieyIV7f+N7qsfWQxAKbGEHU3c+qL06J2x4sjgbw2ZoLciKIR1I/hKbl7SD8c47ke/nCXd4AgNN3gMJBpu5HAMZEd9VkYmh25iZT1Ri/mmiyTX/zGQFDRVZGaWkRMsrUa999rTMgUtFQ/u5TdojrW0MtORbCF3QMdA8suz/l3YpjPdcorO64dskNzCeykVtPF21maqr0ITtxc/vFtKGttYjVPv/5slPAYSKQ5Mumi4wbOXJYVnLyMkNzi9jBBCCMkJJl2EEEJITvBEKjTcODk5GRkZ0WjSP1CSJMlgMHR1dQcxqoEQCAQAEBERIedx2Wy2gYGBnAftjiRJJyenIQwAIbnBNV003LDZ7KdPn8q4pjtmzJiqKgl3NsssMDCQwWD4+fnJeVx9ff3q6uqhXdOdOHFiWxt+y4uGP3zTRcMNQRC6uroyJt3OmwxiVAOhqqo6JG/YnT/sECZdFRUVghiMo7MQeudh0kVIMqT4yZXDqe0mmm1P63WWb15u3iNX9Vn4tv8uAx0XCq4eTKjV02dwiL+4rZmt16OVAn7ZbxHxtaP0aI00o7VuDhrQV2VfGfG5zzIuhZ7PWB8aZt37IEoAEDWWPPzpRGDTgtiv/srsjHnwY0DofxpupEJIAhS0P9jlkcj2XL189botKtec9qeLe1zweuHbP+0yECLIObPM9/7Uz9e7zxQlrj1+rNdMrKjw9MKd8Q6fervNg+MHPrnSCFRflX1lIm5OuXTucX3BjccPWl5flCLh+b1ffk5vKMiMK2v6o7nP6sIIKTRMughJQAiJZ/cajP1YBQDo7HmTDCJirna19ln4tv8uA0O2xG05k+ftO49OBxPXw3l7vugxeS7oiNznrTc/cBobaCNdL0YnuWhDR1+VfWVC15jj+qmzrUHfpQtoYGC7etOqGVrKL4+7fEN1YYQUGiZdpCi4eZEBnzo5r/7u4kMQi1IiPlm6fsPZtEbJbkK8yCkGdXUVAAACdLQ0a6rTuqrs/VH4VqdH4dv+uwwEBW1345LEDqoPoqJizp2+VmZopNbzgtvnH4K5dlZU1E9RkT83apuyOyv7hv/qqAVADl5lX4m8CzEg9K7BpIsUxXsTPXf4aDfG6phPAxrD1nrqbLcDXnZaEt6lpakN6J1bIQhg0BnQ3tzyqrHvwrf9dhkIEmoryoF/rULT2WPVunkv9i/aldR9hprklObVQVaVsquH6xoH/mbvjY/a305lX0m9CzEg9E7BpIsUCNNy62KLk5EplBhSSujODpJmXABgKTOA7Mx4FJCkGBjKSt2b+yh8+yddBoJBp4O6tZ3Fe0CH0Xa2965vvda9mc5gasHU6TNYAHSDeTYNZ8IuvjxRUYbKvmRzUfL1xMTExMQbV7OrZPi0cLCrCyP0Pwx3LyMFwoApHp/R3ANu1vFKaU4LpKlVoGuoDTm8dgA2UNDc2goao7pSd2fh28xmPgCjq/CtLtlPl4GgwQhjE2CRKp3PyMpM4D+u796uNXoCG1Q6Sw1QLCUC6uq5AKoghsexu9Imhp5aYdZeWdpiZKrf1+3fhGouTr71r1YSQIk/VW3RlPel+qRIthgQGm7wTRcpFJquxzaTnD3bs0c7mEjVn7Fw/pzy57kAACQUlhYvme7SVU+3z8K3fXaRaFAC2HZLZ7cXFAsAKBDX1oDeWivoqqcLxFyXKVBS0Fnmt6ZKCLa2I/qp7DtAdGNH/x+CgoKCgvaGr5vxMuNS0KMw4asYXjVT0PXFrcwxIDTcYNJFioXOXLlxLVdvosMI6brDOK+I5fVHT94tL7l/+HSz5/5NJtCtuGwfhW/77CIhmrrLkU2TY0Mu5T9J3nM6e8+OsMnd6ukCk+X17Tl+yq4bWc+uhoQKllz50pbed2VfWZCiB/GHD4T/1lxZcT409Mdbz6B7DBS05lw+GH7gZiFkXgw+9OPV/7ypujBCigyPgUTDTf+l/Sjgph3/le3tafHmydI/Le0n5hVnpVfS/2I71ZT9+nNrn4Vv++/S6c/q6bZUZNwr5o+1sBut1UfwZGtlemY+w9jS+q3U032bsLQfUhy4posURUvCx67H/x57qq6AWOQlW36hq5pZffjGlzYCNE2ses9e999lIAhQN7Fe8OaXZJqa0cz5uFMJoXcbJl2kKFRsvFYWc37/3ezDDfq4rIIQGhKYdJGiYOgu37hlqINACCk2TLpouDE3Nz948CCDIf2/bZFIZGhoGBQUNIhRDUReXh5BEPIf18jIKDg4WJYKxDISCoXm5nhuBlIIuJEKDTdJSUkJCQlDHQWSzNKlS+fOnTvUUSD01mHSRQghhOQEN5QghBBCcoJJFyGEEJITTLoIIYSQnGDSRQghhOQEky5CCCEkJ5h0EUIIITnBpIsQQgjJyX8BXZam1bQ1G1YAAAAASUVORK5CYII=)"
      ],
      "metadata": {
        "id": "IFW1ZZfDWrbS"
      }
    },
    {
      "cell_type": "markdown",
      "source": [
        "**a)** Monte um sistema não-linear para determinar $a$, $b$ e $R$."
      ],
      "metadata": {
        "id": "_rRV8oIaW4Yh"
      }
    },
    {
      "cell_type": "code",
      "source": [
        "# Com a classe explicada acima é possível montar o sistema do problema.\n",
        "a, b, R = sp.symbols('a b R') # Incoginitas utilizadas.\n",
        "sistemaNaoLinear = Sistema([a, b, R]) # Criação do sistema.\n",
        "\n",
        "# Adição das esquações.\n",
        "sistemaNaoLinear.addEquacao('(%s - a)**2 + (%s - b)**2 - R**2' %(8.21, 0.00))\n",
        "sistemaNaoLinear.addEquacao('(%s - a)**2 + (%s - b)**2 - R**2' %(0.34, 6.62))\n",
        "sistemaNaoLinear.addEquacao('(%s - a)**2 + (%s - b)**2 - R**2' %(5.96, -1.12))\n",
        "\n",
        "print(sistemaNaoLinear.getF())"
      ],
      "metadata": {
        "id": "nO1su6tsW_4j",
        "colab": {
          "base_uri": "https://localhost:8080/"
        },
        "outputId": "786b4072-84da-4d10-e9d1-9aee444c2c5e"
      },
      "execution_count": null,
      "outputs": [
        {
          "output_type": "stream",
          "name": "stdout",
          "text": [
            "[-R**2 + b**2 + 67.4041*(1 - 0.121802679658952*a)**2, -R**2 + (0.34 - a)**2 + 43.8244*(1 - 0.151057401812689*b)**2, -R**2 + 35.5216*(1 - 0.167785234899329*a)**2 + 1.2544*(-0.892857142857143*b - 1)**2]\n"
          ]
        }
      ]
    },
    {
      "cell_type": "markdown",
      "source": [
        "**b)** Resolva o sistema não-linear utilizando os códigos feitos nos itens 2 e 3."
      ],
      "metadata": {
        "id": "jToqqHNjXADU"
      }
    },
    {
      "cell_type": "code",
      "source": [
        "chute = np.array([1, 1, 1]) # Chute para os métodos de Newton\n",
        "\n",
        "# Utilização do método da matriz inversa.\n",
        "inicioInversa = time()\n",
        "resInversa = sistemasNewton2(sistemaNaoLinear.getFx, sistemaNaoLinear.getJx, chute)\n",
        "fimInversa = time()\n",
        "\n",
        "# Utilização do método da solução de Gauss.\n",
        "inicioSolve = time()\n",
        "resSolve = sistemasNewton3(sistemaNaoLinear.getFx, sistemaNaoLinear.getJx, chute) \n",
        "fimSolve = time()\n",
        "\n",
        "print(resInversa)\n",
        "print(resSolve)"
      ],
      "metadata": {
        "id": "BbaSFCRlXGgz",
        "colab": {
          "base_uri": "https://localhost:8080/"
        },
        "outputId": "64f21a72-0ffd-4114-8deb-7dd72017c511"
      },
      "execution_count": null,
      "outputs": [
        {
          "output_type": "stream",
          "name": "stdout",
          "text": [
            "[4.83010565 3.96992168 5.21382431]\n",
            "[4.83010565 3.96992168 5.21382431]\n"
          ]
        }
      ]
    },
    {
      "cell_type": "markdown",
      "source": [
        "**c)** Houve melhora no tempo de execução do código implementado no item 3?"
      ],
      "metadata": {
        "id": "hvnUscBAXGw5"
      }
    },
    {
      "cell_type": "code",
      "source": [
        "print('Duração Inversa', fimInversa - inicioInversa)\n",
        "print('Duração Solve', fimSolve - inicioSolve)"
      ],
      "metadata": {
        "id": "7rhJhO3QXLTF",
        "colab": {
          "base_uri": "https://localhost:8080/"
        },
        "outputId": "8c1a968d-4aee-4445-9102-f3b3485038e3"
      },
      "execution_count": null,
      "outputs": [
        {
          "output_type": "stream",
          "name": "stdout",
          "text": [
            "Duração Inversa 0.036753177642822266\n",
            "Duração Solve 0.02629685401916504\n"
          ]
        }
      ]
    },
    {
      "cell_type": "markdown",
      "source": [
        "**RESPOSTA**: A implementação do item 3 possuiu um melhor desempenho em comparação ao método utilizado no item 2. Assim, podemos concluir que para sistemas grandes o método 3 terá um melhor desempenho e será computacionamente menos custosa."
      ],
      "metadata": {
        "id": "OyYS5DR6urs6"
      }
    },
    {
      "cell_type": "markdown",
      "source": [
        "**d)** Finalmente, com os resultados a, b e R, utilizando a equação do círculo dada por $(x−a)^2 + (y −b)^2 = R^2$,\n",
        "imprima o gráfico que representa esse círculo."
      ],
      "metadata": {
        "id": "9jx91CrxXLds"
      }
    },
    {
      "cell_type": "code",
      "source": [
        "# Criação do gráfico com o centro da cincunferência (a, b) e seu raio R.\n",
        "\n",
        "plt.rcParams[\"figure.figsize\"] = [5, 5]\n",
        "fig = plt.figure()\n",
        "ax = fig.add_subplot()\n",
        "circle1 = patches.Circle((resSolve[0], resSolve[1]), radius=resSolve[2], color='red', fill=False)\n",
        "ax.add_patch(circle1)\n",
        "ax.axis('equal')\n",
        "plt.show()"
      ],
      "metadata": {
        "id": "V6CefGSXmG9s",
        "colab": {
          "base_uri": "https://localhost:8080/",
          "height": 507
        },
        "outputId": "4ca8ac05-b831-4d9f-9276-221a8a287b85"
      },
      "execution_count": null,
      "outputs": [
        {
          "output_type": "display_data",
          "data": {
            "text/plain": [
              "<Figure size 500x500 with 1 Axes>"
            ],
            "image/png": "[encoded data removed]"
          },
          "metadata": {}
        }
      ]
    }
  ]
}